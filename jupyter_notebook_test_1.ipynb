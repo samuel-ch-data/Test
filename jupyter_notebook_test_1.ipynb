{
 "cells": [
  {
   "cell_type": "code",
   "execution_count": 7,
   "metadata": {},
   "outputs": [
    {
     "ename": "ModuleNotFoundError",
     "evalue": "No module named 'trino'",
     "output_type": "error",
     "traceback": [
      "\u001b[31m---------------------------------------------------------------------------\u001b[39m",
      "\u001b[31mModuleNotFoundError\u001b[39m                       Traceback (most recent call last)",
      "\u001b[36mCell\u001b[39m\u001b[36m \u001b[39m\u001b[32mIn[7]\u001b[39m\u001b[32m, line 1\u001b[39m\n\u001b[32m----> \u001b[39m\u001b[32m1\u001b[39m \u001b[38;5;28;01mimport\u001b[39;00m\u001b[38;5;250m \u001b[39m\u001b[34;01mtrino\u001b[39;00m\n\u001b[32m      2\u001b[39m \u001b[38;5;28;01mimport\u001b[39;00m\u001b[38;5;250m \u001b[39m\u001b[34;01mpandas\u001b[39;00m\u001b[38;5;250m \u001b[39m\u001b[38;5;28;01mas\u001b[39;00m\u001b[38;5;250m \u001b[39m\u001b[34;01mpd\u001b[39;00m\n\u001b[32m      3\u001b[39m \u001b[38;5;28;01mimport\u001b[39;00m\u001b[38;5;250m \u001b[39m\u001b[34;01mnumpy\u001b[39;00m\u001b[38;5;250m \u001b[39m\u001b[38;5;28;01mas\u001b[39;00m\u001b[38;5;250m \u001b[39m\u001b[34;01mnp\u001b[39;00m\n",
      "\u001b[31mModuleNotFoundError\u001b[39m: No module named 'trino'"
     ]
    }
   ],
   "source": [
    "import trino\n",
    "import pandas as pd\n",
    "import numpy as np\n",
    "import matplotlib.pyplot as plt\n",
    "import seaborn as sns\n",
    "plt.rcParams['figure.figsize'] = [10, 8]\n",
    "\n",
    "conn = trino.dbapi.connect(\n",
    "    host='kakaoent-presto-adhoc.kakaoent.io',\n",
    "    port=8443,\n",
    "    user='samuel-ch',\n",
    "    catalog='hadoop_kent',\n",
    "    schema='default',                          # 사용할 Database 지정\n",
    "    http_scheme='https',\n",
    "    auth=trino.auth.BasicAuthentication(\"samuel-ch\", \"melon!Q2w3e\"),  # 카카오 LDAP이 아닌 하둡 LDAP 입력\n",
    "    http_headers={\n",
    "        'X-Presto-User': 'samuel-ch',\n",
    "        'X-Presto-Time-Zone': 'Asia/Seoul'\n",
    "    },\n",
    ")\n",
    "cur = conn.cursor()"
   ]
  },
  {
   "cell_type": "code",
   "execution_count": 6,
   "metadata": {},
   "outputs": [
    {
     "name": "stdout",
     "output_type": "stream",
     "text": [
      "zsh:1: command not found: pip\n"
     ]
    }
   ],
   "source": [
    "!pip install trino"
   ]
  },
  {
   "cell_type": "code",
   "execution_count": 14,
   "metadata": {},
   "outputs": [],
   "source": [
    "# Set CSS properties for th elements in dataframe\n",
    "th_props = [\n",
    "  ('font-size', '11px'),\n",
    "  ('text-align', 'center'),\n",
    "  ('font-weight', 'bold'),\n",
    "  ('color', '#6d6d6d'),\n",
    "  ('background-color', '#f7f7f9')\n",
    "  ]\n",
    "\n",
    "# Set CSS properties for td elements in dataframe\n",
    "td_props = [\n",
    "  ('font-size', '11px')\n",
    "  ]\n",
    "\n",
    "# Set table styles\n",
    "styles = [\n",
    "  dict(selector=\"th\", props=th_props),\n",
    "  dict(selector=\"td\", props=td_props)\n",
    "  ]\n",
    "\n",
    "cm = sns.light_palette(\"green\", as_cmap=True)"
   ]
  },
  {
   "cell_type": "code",
   "execution_count": 8,
   "metadata": {},
   "outputs": [
    {
     "ename": "ModuleNotFoundError",
     "evalue": "No module named 'matplotlib'",
     "output_type": "error",
     "traceback": [
      "\u001b[31m---------------------------------------------------------------------------\u001b[39m",
      "\u001b[31mModuleNotFoundError\u001b[39m                       Traceback (most recent call last)",
      "\u001b[36mCell\u001b[39m\u001b[36m \u001b[39m\u001b[32mIn[8]\u001b[39m\u001b[32m, line 1\u001b[39m\n\u001b[32m----> \u001b[39m\u001b[32m1\u001b[39m \u001b[38;5;28;01mimport\u001b[39;00m\u001b[38;5;250m \u001b[39m\u001b[34;01mmatplotlib\u001b[39;00m\u001b[34;01m.\u001b[39;00m\u001b[34;01mfont_manager\u001b[39;00m\u001b[38;5;250m \u001b[39m\u001b[38;5;28;01mas\u001b[39;00m\u001b[38;5;250m \u001b[39m\u001b[34;01mfm\u001b[39;00m\n\u001b[32m      3\u001b[39m path = \u001b[33m'\u001b[39m\u001b[33mfont/NanumGothicBold.ttf\u001b[39m\u001b[33m'\u001b[39m\n\u001b[32m      4\u001b[39m fontprop = fm.FontProperties(fname=path, size=\u001b[32m18\u001b[39m)\n",
      "\u001b[31mModuleNotFoundError\u001b[39m: No module named 'matplotlib'"
     ]
    }
   ],
   "source": [
    "import matplotlib.font_manager as fm\n",
    "\n",
    "path = 'font/NanumGothicBold.ttf'\n",
    "fontprop = fm.FontProperties(fname=path, size=18)\n",
    "font_name = fm.FontProperties(fname=path).get_name()\n",
    "\n",
    "import matplotlib.pyplot as plt\n",
    "\n",
    "plt.plot([1, 2, 3, 4])\n",
    "plt.ylabel('한글 테스트',  fontproperties=fontprop)\n",
    "plt.show()"
   ]
  },
  {
   "cell_type": "code",
   "execution_count": 3,
   "metadata": {},
   "outputs": [],
   "source": [
    "tmp_query = '''\n",
    "SELECT DT\n",
    "     , EVENT_CNT\n",
    "     , IF(EVENT_CNT > 0,'Y','N') AS EVENT_YN\n",
    "     , NEW_PROD_CNT\n",
    "     , NEW_JOIN_PROD_CNT\n",
    "     , SUSPND_RELEASE_PROD_CNT\n",
    "FROM(     \n",
    "SELECT DT\n",
    "     , COUNT(DISTINCT EVENT_ID) AS EVENT_CNT\n",
    "     , COUNT(DISTINCT BUY_NO) AS NEW_PROD_CNT\n",
    "     , COUNT(DISTINCT IF(PROD_FLUC_PRT_CD = 100, BUY_NO)) AS NEW_JOIN_PROD_CNT\n",
    "     , COUNT(DISTINCT IF(PROD_FLUC_PRT_CD = 101, BUY_NO)) AS SUSPND_RELEASE_PROD_CNT\n",
    "FROM(\n",
    "    SELECT T1.DT\n",
    "         , T1.FIRST_BUY_NO\n",
    "         , T1.BUY_NO\n",
    "         , T2.PROD_PRT_CD\n",
    "         , T1.USER_MKEY AS MEMBER_KEY\n",
    "         , T3.PROD_FLUC_PRT_CD -- 100 신규 101 일시정지해제\n",
    "    FROM HADOOP_KENT.MELON_MA_STAT_PRODUCTION.F_PROD_USER_FXMT_DT  T1\n",
    "    JOIN HADOOP_KENT.MELON_MA_STAT_PRODUCTION.D_PROD T2 ON (T1.PROD_ID = T2.PROD_ID)\n",
    "    JOIN HADOOP_KENT.MELON_MA_STAT_PRODUCTION.D_PROD_JOIN_PRT T3 ON (T1.PROD_JOIN_PRT_CD = T3.PROD_JOIN_PRT_CD)\n",
    "    WHERE T1.LOG_DATE BETWEEN '20240101' AND '20241231'\n",
    "      AND PF_YN = 1\n",
    "      AND T2.PROD_ATTR_CD NOT IN (10040, 10050)\n",
    "      AND T1.PROD_JOIN_PRT_CD IN (1100, 1200, 1201, 1205, 1206, 1203, 1207)\n",
    "      AND T2.PROD_SELL_PRT_CD IN (60000) /*B2C*/\n",
    "    GROUP BY 1,2,3,4,5,6  \n",
    ") F1\n",
    "LEFT JOIN(\n",
    "    SELECT EVENT_ID\n",
    "         , TITLE\n",
    "         , DATE(START_DATE) AS START_DATE\n",
    "         , DATE(END_DATE) AS END_DATE\n",
    "    FROM HADOOP_KENT.MELON_ODS_POC_PRODUCTION.EVENT_INFO_RO\n",
    "    WHERE DATE(START_DATE) >= DATE('2024-01-01') \n",
    "    AND END_DATE <= DATE('2024-12-31')\n",
    "    AND CATEGORY IN ('100068','100067')\n",
    ") F2 ON F1.DT BETWEEN F2.START_DATE AND F2.END_DATE\n",
    "GROUP BY 1\n",
    ")\n",
    "ORDER BY 1\n",
    "'''"
   ]
  },
  {
   "cell_type": "code",
   "execution_count": null,
   "metadata": {},
   "outputs": [
    {
     "data": {
      "text/plain": [
       "<trino.dbapi.Cursor at 0x10cf44a00>"
      ]
     },
     "execution_count": 4,
     "metadata": {},
     "output_type": "execute_result"
    }
   ],
   "source": [
    "cur.execute(tmp_query)\n",
    "\n",
    "results = cur.fetchall()\n",
    "colnames = [part[0] for part in cur.description]\n",
    "\n",
    "tmp_df = pd.DataFrame(results, columns=colnames)\n",
    "\n",
    "cur.cancel()\n",
    "conn.close()\n",
    "tmp_df.head()"
   ]
  },
  {
   "cell_type": "code",
   "execution_count": null,
   "metadata": {},
   "outputs": [],
   "source": [
    "tmp_df.head()"
   ]
  },
  {
   "cell_type": "code",
   "execution_count": 8,
   "metadata": {},
   "outputs": [
    {
     "data": {
      "text/plain": [
       "41.150185075377784"
      ]
     },
     "execution_count": 8,
     "metadata": {},
     "output_type": "execute_result"
    }
   ],
   "source": [
    "(1256869 - 890448)/890448*100"
   ]
  },
  {
   "cell_type": "code",
   "execution_count": 11,
   "metadata": {},
   "outputs": [
    {
     "data": {
      "text/plain": [
       "0.010987948701424244"
      ]
     },
     "execution_count": 11,
     "metadata": {},
     "output_type": "execute_result"
    }
   ],
   "source": [
    "341/31034"
   ]
  },
  {
   "cell_type": "code",
   "execution_count": 15,
   "metadata": {},
   "outputs": [
    {
     "data": {
      "text/plain": [
       "51200"
      ]
     },
     "execution_count": 15,
     "metadata": {},
     "output_type": "execute_result"
    }
   ],
   "source": [
    "3200*16"
   ]
  },
  {
   "cell_type": "code",
   "execution_count": null,
   "metadata": {},
   "outputs": [],
   "source": []
  },
  {
   "cell_type": "code",
   "execution_count": null,
   "metadata": {},
   "outputs": [],
   "source": []
  }
 ],
 "metadata": {
  "kernelspec": {
   "display_name": "Python 3",
   "language": "python",
   "name": "python3"
  },
  "language_info": {
   "codemirror_mode": {
    "name": "ipython",
    "version": 3
   },
   "file_extension": ".py",
   "mimetype": "text/x-python",
   "name": "python",
   "nbconvert_exporter": "python",
   "pygments_lexer": "ipython3",
   "version": "3.13.2"
  }
 },
 "nbformat": 4,
 "nbformat_minor": 2
}
